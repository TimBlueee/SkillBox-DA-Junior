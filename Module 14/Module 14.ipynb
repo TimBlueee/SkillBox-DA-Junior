{
 "cells": [
  {
   "cell_type": "markdown",
   "id": "506c3a02",
   "metadata": {
    "id": "506c3a02"
   },
   "source": [
    "## Пример решения ДЗ"
   ]
  },
  {
   "cell_type": "markdown",
   "id": "cce711af",
   "metadata": {
    "id": "cce711af"
   },
   "source": [
    "### Необходимые импорты библиотек"
   ]
  },
  {
   "cell_type": "code",
   "execution_count": 1,
   "id": "d6c59424",
   "metadata": {
    "id": "d6c59424"
   },
   "outputs": [],
   "source": [
    "import pandas as pd\n",
    "import numpy as np"
   ]
  },
  {
   "cell_type": "code",
   "execution_count": 2,
   "id": "d9b0ad5d",
   "metadata": {
    "id": "d9b0ad5d"
   },
   "outputs": [],
   "source": [
    "from datetime import datetime"
   ]
  },
  {
   "cell_type": "code",
   "execution_count": 3,
   "id": "a0033209",
   "metadata": {
    "id": "a0033209"
   },
   "outputs": [],
   "source": [
    "from sklearn.preprocessing import StandardScaler, OneHotEncoder\n",
    "from sklearn.model_selection import KFold, cross_val_predict\n",
    "from sklearn.impute import SimpleImputer\n",
    "from sklearn.pipeline import Pipeline\n",
    "from sklearn.metrics import mean_absolute_percentage_error, r2_score\n",
    "\n",
    "from sklearn.linear_model import LinearRegression\n",
    "from sklearn.tree import DecisionTreeRegressor\n",
    "from sklearn.ensemble import RandomForestRegressor"
   ]
  },
  {
   "cell_type": "markdown",
   "id": "3597e315",
   "metadata": {
    "id": "3597e315"
   },
   "source": [
    "### Загрузка данных"
   ]
  },
  {
   "cell_type": "markdown",
   "id": "8082ed61",
   "metadata": {
    "id": "8082ed61"
   },
   "source": [
    "Читаем файлы из базы данных в датафреймы пандас"
   ]
  },
  {
   "cell_type": "code",
   "execution_count": 4,
   "id": "c5ad83d6",
   "metadata": {
    "id": "c5ad83d6"
   },
   "outputs": [],
   "source": [
    "app_sess = pd.read_csv('app_sess.csv')\n",
    "\n",
    "customers = pd.read_csv('customers.csv')\n",
    "\n",
    "delivery_info = pd.read_csv('info.csv')\n",
    "\n",
    "orders_product = pd.read_csv('orders_product.csv')\n",
    "\n",
    "orders = pd.read_csv('orders.csv')\n",
    "\n",
    "products = pd.read_csv('products.csv')"
   ]
  },
  {
   "cell_type": "markdown",
   "id": "37499222",
   "metadata": {
    "id": "37499222"
   },
   "source": [
    "### Создание целевой переменной"
   ]
  },
  {
   "cell_type": "markdown",
   "id": "238805d0",
   "metadata": {
    "id": "238805d0"
   },
   "source": [
    "Джойн таблиц с заказами и доставками для получения времени доставки в днях"
   ]
  },
  {
   "cell_type": "code",
   "execution_count": 5,
   "id": "ca22998b",
   "metadata": {
    "id": "ca22998b"
   },
   "outputs": [],
   "source": [
    "order_delivery = pd.merge(orders, delivery_info, on='order_id')"
   ]
  },
  {
   "cell_type": "markdown",
   "id": "7770801c",
   "metadata": {
    "id": "7770801c"
   },
   "source": [
    "Выберем те даты, при которых доставка была полностью завершена. Если строить модель с использованием времени незавешенных заказов, то можно модели передать недостоверную информацию и понизить ее качество."
   ]
  },
  {
   "cell_type": "code",
   "execution_count": 6,
   "id": "8e1184a6",
   "metadata": {
    "id": "8e1184a6"
   },
   "outputs": [],
   "source": [
    "order_delivery = order_delivery[order_delivery['is_completed_flg']].reset_index(drop=True)"
   ]
  },
  {
   "cell_type": "markdown",
   "id": "c24cdb64",
   "metadata": {
    "id": "c24cdb64"
   },
   "source": [
    "Приведение к типу \"дата\""
   ]
  },
  {
   "cell_type": "code",
   "execution_count": 7,
   "id": "d3b9c164",
   "metadata": {
    "id": "d3b9c164"
   },
   "outputs": [
    {
     "name": "stderr",
     "output_type": "stream",
     "text": [
      "C:\\Users\\abuza\\AppData\\Local\\Temp\\ipykernel_14040\\915729794.py:2: UserWarning: Parsing dates in DD/MM/YYYY format when dayfirst=False (the default) was specified. This may lead to inconsistently parsed dates! Specify a format to ensure consistent parsing.\n",
      "  order_delivery['order_dt'] = pd.to_datetime(order_delivery['order_dt'])\n"
     ]
    }
   ],
   "source": [
    "order_delivery['delivery_dt'] = pd.to_datetime(order_delivery['delivery_dt'])\n",
    "order_delivery['order_dt'] = pd.to_datetime(order_delivery['order_dt'])"
   ]
  },
  {
   "cell_type": "markdown",
   "id": "ba6349aa",
   "metadata": {
    "id": "ba6349aa"
   },
   "source": [
    "Получение времени доставки"
   ]
  },
  {
   "cell_type": "code",
   "execution_count": 8,
   "id": "649e7ea4",
   "metadata": {
    "id": "649e7ea4"
   },
   "outputs": [],
   "source": [
    "order_delivery['delivery_time'] = (order_delivery['delivery_dt'] - order_delivery['order_dt'])\\\n",
    "    .apply(lambda x: x.days)"
   ]
  },
  {
   "cell_type": "code",
   "execution_count": 9,
   "id": "d3bbb324",
   "metadata": {
    "id": "d3bbb324",
    "outputId": "e64874b9-2989-43ca-aafe-f66fc74f2203"
   },
   "outputs": [
    {
     "data": {
      "text/html": [
       "<div>\n",
       "<style scoped>\n",
       "    .dataframe tbody tr th:only-of-type {\n",
       "        vertical-align: middle;\n",
       "    }\n",
       "\n",
       "    .dataframe tbody tr th {\n",
       "        vertical-align: top;\n",
       "    }\n",
       "\n",
       "    .dataframe thead th {\n",
       "        text-align: right;\n",
       "    }\n",
       "</style>\n",
       "<table border=\"1\" class=\"dataframe\">\n",
       "  <thead>\n",
       "    <tr style=\"text-align: right;\">\n",
       "      <th></th>\n",
       "      <th>order_id</th>\n",
       "      <th>customer_id</th>\n",
       "      <th>order_dt</th>\n",
       "      <th>payment_method</th>\n",
       "      <th>delivery_id</th>\n",
       "      <th>delivery_dt</th>\n",
       "      <th>is_completed_flg</th>\n",
       "      <th>delivery_time</th>\n",
       "    </tr>\n",
       "  </thead>\n",
       "  <tbody>\n",
       "    <tr>\n",
       "      <th>0</th>\n",
       "      <td>99983</td>\n",
       "      <td>4951223</td>\n",
       "      <td>2021-07-12</td>\n",
       "      <td>offline</td>\n",
       "      <td>81</td>\n",
       "      <td>2017-01-20</td>\n",
       "      <td>True</td>\n",
       "      <td>-1634</td>\n",
       "    </tr>\n",
       "    <tr>\n",
       "      <th>1</th>\n",
       "      <td>99983</td>\n",
       "      <td>4951223</td>\n",
       "      <td>2021-07-12</td>\n",
       "      <td>offline</td>\n",
       "      <td>1006</td>\n",
       "      <td>2024-12-20</td>\n",
       "      <td>True</td>\n",
       "      <td>1257</td>\n",
       "    </tr>\n",
       "    <tr>\n",
       "      <th>2</th>\n",
       "      <td>99983</td>\n",
       "      <td>4951223</td>\n",
       "      <td>2021-07-12</td>\n",
       "      <td>offline</td>\n",
       "      <td>1241</td>\n",
       "      <td>2004-01-20</td>\n",
       "      <td>True</td>\n",
       "      <td>-6383</td>\n",
       "    </tr>\n",
       "    <tr>\n",
       "      <th>3</th>\n",
       "      <td>99969</td>\n",
       "      <td>1806908</td>\n",
       "      <td>2022-07-29</td>\n",
       "      <td>offline</td>\n",
       "      <td>1071</td>\n",
       "      <td>2003-09-20</td>\n",
       "      <td>True</td>\n",
       "      <td>-6887</td>\n",
       "    </tr>\n",
       "    <tr>\n",
       "      <th>4</th>\n",
       "      <td>99969</td>\n",
       "      <td>1806908</td>\n",
       "      <td>2022-07-29</td>\n",
       "      <td>offline</td>\n",
       "      <td>1268</td>\n",
       "      <td>2031-08-20</td>\n",
       "      <td>True</td>\n",
       "      <td>3309</td>\n",
       "    </tr>\n",
       "  </tbody>\n",
       "</table>\n",
       "</div>"
      ],
      "text/plain": [
       "   order_id  customer_id   order_dt payment_method  delivery_id delivery_dt  \\\n",
       "0     99983      4951223 2021-07-12        offline           81  2017-01-20   \n",
       "1     99983      4951223 2021-07-12        offline         1006  2024-12-20   \n",
       "2     99983      4951223 2021-07-12        offline         1241  2004-01-20   \n",
       "3     99969      1806908 2022-07-29        offline         1071  2003-09-20   \n",
       "4     99969      1806908 2022-07-29        offline         1268  2031-08-20   \n",
       "\n",
       "   is_completed_flg  delivery_time  \n",
       "0              True          -1634  \n",
       "1              True           1257  \n",
       "2              True          -6383  \n",
       "3              True          -6887  \n",
       "4              True           3309  "
      ]
     },
     "execution_count": 9,
     "metadata": {},
     "output_type": "execute_result"
    }
   ],
   "source": [
    "order_delivery.head()"
   ]
  },
  {
   "cell_type": "markdown",
   "id": "fac6e0ee",
   "metadata": {
    "id": "fac6e0ee"
   },
   "source": [
    "Нужно обратить внимание, что на один order_id приходится несколько дат доставки - поскольку в задание это никак не оговорено, можно взять как максимум, так и среднее, так и минимум и времени доставок"
   ]
  },
  {
   "cell_type": "code",
   "execution_count": 10,
   "id": "239f8a99",
   "metadata": {
    "id": "239f8a99"
   },
   "outputs": [],
   "source": [
    "order_target = order_delivery[['order_id', 'delivery_time']]\\\n",
    "    .groupby(by='order_id').max()\\\n",
    "    .reset_index()"
   ]
  },
  {
   "cell_type": "code",
   "execution_count": 11,
   "id": "1442978b",
   "metadata": {
    "id": "1442978b",
    "outputId": "8a3b7a3f-bcf9-4f7d-99c1-2039ca1b7025"
   },
   "outputs": [
    {
     "data": {
      "text/html": [
       "<div>\n",
       "<style scoped>\n",
       "    .dataframe tbody tr th:only-of-type {\n",
       "        vertical-align: middle;\n",
       "    }\n",
       "\n",
       "    .dataframe tbody tr th {\n",
       "        vertical-align: top;\n",
       "    }\n",
       "\n",
       "    .dataframe thead th {\n",
       "        text-align: right;\n",
       "    }\n",
       "</style>\n",
       "<table border=\"1\" class=\"dataframe\">\n",
       "  <thead>\n",
       "    <tr style=\"text-align: right;\">\n",
       "      <th></th>\n",
       "      <th>order_id</th>\n",
       "      <th>delivery_time</th>\n",
       "    </tr>\n",
       "  </thead>\n",
       "  <tbody>\n",
       "    <tr>\n",
       "      <th>0</th>\n",
       "      <td>87</td>\n",
       "      <td>2245</td>\n",
       "    </tr>\n",
       "    <tr>\n",
       "      <th>1</th>\n",
       "      <td>97</td>\n",
       "      <td>-5056</td>\n",
       "    </tr>\n",
       "    <tr>\n",
       "      <th>2</th>\n",
       "      <td>109</td>\n",
       "      <td>-6872</td>\n",
       "    </tr>\n",
       "    <tr>\n",
       "      <th>3</th>\n",
       "      <td>181</td>\n",
       "      <td>3650</td>\n",
       "    </tr>\n",
       "    <tr>\n",
       "      <th>4</th>\n",
       "      <td>184</td>\n",
       "      <td>-2871</td>\n",
       "    </tr>\n",
       "    <tr>\n",
       "      <th>...</th>\n",
       "      <td>...</td>\n",
       "      <td>...</td>\n",
       "    </tr>\n",
       "    <tr>\n",
       "      <th>1170</th>\n",
       "      <td>99662</td>\n",
       "      <td>-4681</td>\n",
       "    </tr>\n",
       "    <tr>\n",
       "      <th>1171</th>\n",
       "      <td>99708</td>\n",
       "      <td>-2269</td>\n",
       "    </tr>\n",
       "    <tr>\n",
       "      <th>1172</th>\n",
       "      <td>99710</td>\n",
       "      <td>-5790</td>\n",
       "    </tr>\n",
       "    <tr>\n",
       "      <th>1173</th>\n",
       "      <td>99969</td>\n",
       "      <td>3309</td>\n",
       "    </tr>\n",
       "    <tr>\n",
       "      <th>1174</th>\n",
       "      <td>99983</td>\n",
       "      <td>1257</td>\n",
       "    </tr>\n",
       "  </tbody>\n",
       "</table>\n",
       "<p>1175 rows × 2 columns</p>\n",
       "</div>"
      ],
      "text/plain": [
       "      order_id  delivery_time\n",
       "0           87           2245\n",
       "1           97          -5056\n",
       "2          109          -6872\n",
       "3          181           3650\n",
       "4          184          -2871\n",
       "...        ...            ...\n",
       "1170     99662          -4681\n",
       "1171     99708          -2269\n",
       "1172     99710          -5790\n",
       "1173     99969           3309\n",
       "1174     99983           1257\n",
       "\n",
       "[1175 rows x 2 columns]"
      ]
     },
     "execution_count": 11,
     "metadata": {},
     "output_type": "execute_result"
    }
   ],
   "source": [
    "order_target"
   ]
  },
  {
   "cell_type": "code",
   "execution_count": 12,
   "id": "a05a9c0d",
   "metadata": {
    "id": "a05a9c0d",
    "outputId": "cc0acc77-71f2-4f07-8b1c-3a36a49e3352"
   },
   "outputs": [
    {
     "data": {
      "text/plain": [
       "<Axes: >"
      ]
     },
     "execution_count": 12,
     "metadata": {},
     "output_type": "execute_result"
    },
    {
     "data": {
      "image/png": "[encoded data removed]",
      "text/plain": [
       "<Figure size 640x480 with 1 Axes>"
      ]
     },
     "metadata": {},
     "output_type": "display_data"
    }
   ],
   "source": [
    "order_target['delivery_time'].hist(bins=60)"
   ]
  },
  {
   "cell_type": "markdown",
   "id": "557a7c49",
   "metadata": {
    "id": "557a7c49"
   },
   "source": [
    "Полученная целевая переменная принимает целочисленные значения, начиная с единицы. По своей природе время доставки теоритически может быть любым - значит нельзя заранее выбрать конечное число классов, а значит рассматривается задача регрессии. В качестве целевой метрики лучше взять MAPE, поскольку по смыслу задачи интересно знать процентное отклонение от ожидаемого времени доставки. Использование метрик MAE и MSE/RMSE также возможно, для понимания средних абсолютных ошибок. Также можно использовать метрику R^2 для понимая адекватности предсказаний в смысле их вариативности"
   ]
  },
  {
   "cell_type": "markdown",
   "id": "76fc5707",
   "metadata": {
    "id": "76fc5707"
   },
   "source": [
    "### Генерация признаков\n",
    "\n",
    "В качестве признаков используем информацию о содержимом в заказах.\n",
    "Общая информация:\n",
    "- Суммарное число товаров\n",
    "- Суммарная стоимость товаров\n",
    "\n",
    "Информация по группам:\n",
    "- Суммарное количество товаров в разрезе группы товаров\n",
    "- Суммарная стоимость товаров в разрезе группы товаров"
   ]
  },
  {
   "cell_type": "markdown",
   "id": "178a31b5",
   "metadata": {
    "id": "178a31b5"
   },
   "source": [
    "Сопоставление заказов и продуктов"
   ]
  },
  {
   "cell_type": "code",
   "execution_count": 13,
   "id": "d524e164",
   "metadata": {
    "id": "d524e164"
   },
   "outputs": [],
   "source": [
    "orders_products = pd.merge(orders_product, products, on='product_id')"
   ]
  },
  {
   "cell_type": "code",
   "execution_count": 14,
   "id": "5c7cae25",
   "metadata": {
    "id": "5c7cae25"
   },
   "outputs": [],
   "source": [
    "orders_products['total_price'] = orders_products['Price']*orders_products['amount']"
   ]
  },
  {
   "cell_type": "code",
   "execution_count": 15,
   "id": "4928ffee",
   "metadata": {
    "id": "4928ffee",
    "outputId": "e0256e34-6e97-4fd9-e756-fe9aaf947e9e"
   },
   "outputs": [
    {
     "data": {
      "text/html": [
       "<div>\n",
       "<style scoped>\n",
       "    .dataframe tbody tr th:only-of-type {\n",
       "        vertical-align: middle;\n",
       "    }\n",
       "\n",
       "    .dataframe tbody tr th {\n",
       "        vertical-align: top;\n",
       "    }\n",
       "\n",
       "    .dataframe thead th {\n",
       "        text-align: right;\n",
       "    }\n",
       "</style>\n",
       "<table border=\"1\" class=\"dataframe\">\n",
       "  <thead>\n",
       "    <tr style=\"text-align: right;\">\n",
       "      <th></th>\n",
       "      <th>order_id</th>\n",
       "      <th>product_id</th>\n",
       "      <th>amount</th>\n",
       "      <th>product_group_name</th>\n",
       "      <th>product_name</th>\n",
       "      <th>Price</th>\n",
       "      <th>total_price</th>\n",
       "    </tr>\n",
       "  </thead>\n",
       "  <tbody>\n",
       "    <tr>\n",
       "      <th>0</th>\n",
       "      <td>52414</td>\n",
       "      <td>4</td>\n",
       "      <td>33</td>\n",
       "      <td>Одежда</td>\n",
       "      <td>Рубашка</td>\n",
       "      <td>15000</td>\n",
       "      <td>495000</td>\n",
       "    </tr>\n",
       "    <tr>\n",
       "      <th>1</th>\n",
       "      <td>7695</td>\n",
       "      <td>4</td>\n",
       "      <td>21</td>\n",
       "      <td>Одежда</td>\n",
       "      <td>Рубашка</td>\n",
       "      <td>15000</td>\n",
       "      <td>315000</td>\n",
       "    </tr>\n",
       "    <tr>\n",
       "      <th>2</th>\n",
       "      <td>22012</td>\n",
       "      <td>4</td>\n",
       "      <td>8</td>\n",
       "      <td>Одежда</td>\n",
       "      <td>Рубашка</td>\n",
       "      <td>15000</td>\n",
       "      <td>120000</td>\n",
       "    </tr>\n",
       "    <tr>\n",
       "      <th>3</th>\n",
       "      <td>8509</td>\n",
       "      <td>4</td>\n",
       "      <td>50</td>\n",
       "      <td>Одежда</td>\n",
       "      <td>Рубашка</td>\n",
       "      <td>15000</td>\n",
       "      <td>750000</td>\n",
       "    </tr>\n",
       "    <tr>\n",
       "      <th>4</th>\n",
       "      <td>82238</td>\n",
       "      <td>4</td>\n",
       "      <td>27</td>\n",
       "      <td>Одежда</td>\n",
       "      <td>Рубашка</td>\n",
       "      <td>15000</td>\n",
       "      <td>405000</td>\n",
       "    </tr>\n",
       "  </tbody>\n",
       "</table>\n",
       "</div>"
      ],
      "text/plain": [
       "   order_id  product_id  amount product_group_name product_name  Price  \\\n",
       "0     52414           4      33             Одежда      Рубашка  15000   \n",
       "1      7695           4      21             Одежда      Рубашка  15000   \n",
       "2     22012           4       8             Одежда      Рубашка  15000   \n",
       "3      8509           4      50             Одежда      Рубашка  15000   \n",
       "4     82238           4      27             Одежда      Рубашка  15000   \n",
       "\n",
       "   total_price  \n",
       "0       495000  \n",
       "1       315000  \n",
       "2       120000  \n",
       "3       750000  \n",
       "4       405000  "
      ]
     },
     "execution_count": 15,
     "metadata": {},
     "output_type": "execute_result"
    }
   ],
   "source": [
    "orders_products.head()"
   ]
  },
  {
   "cell_type": "markdown",
   "id": "fecbff6d",
   "metadata": {
    "id": "fecbff6d"
   },
   "source": [
    "Общие статистики"
   ]
  },
  {
   "cell_type": "code",
   "execution_count": 16,
   "id": "26050458",
   "metadata": {
    "id": "26050458"
   },
   "outputs": [],
   "source": [
    "orders_general = \\\n",
    "    orders_products[['order_id', 'amount', 'total_price']].groupby(by='order_id').sum().reset_index()"
   ]
  },
  {
   "cell_type": "code",
   "execution_count": 17,
   "id": "8ad8b2e1",
   "metadata": {
    "id": "8ad8b2e1",
    "outputId": "d1d155ba-57cd-4386-988c-2f25dd588f40"
   },
   "outputs": [
    {
     "data": {
      "text/html": [
       "<div>\n",
       "<style scoped>\n",
       "    .dataframe tbody tr th:only-of-type {\n",
       "        vertical-align: middle;\n",
       "    }\n",
       "\n",
       "    .dataframe tbody tr th {\n",
       "        vertical-align: top;\n",
       "    }\n",
       "\n",
       "    .dataframe thead th {\n",
       "        text-align: right;\n",
       "    }\n",
       "</style>\n",
       "<table border=\"1\" class=\"dataframe\">\n",
       "  <thead>\n",
       "    <tr style=\"text-align: right;\">\n",
       "      <th></th>\n",
       "      <th>order_id</th>\n",
       "      <th>amount</th>\n",
       "      <th>total_price</th>\n",
       "    </tr>\n",
       "  </thead>\n",
       "  <tbody>\n",
       "    <tr>\n",
       "      <th>0</th>\n",
       "      <td>87</td>\n",
       "      <td>41</td>\n",
       "      <td>615000</td>\n",
       "    </tr>\n",
       "    <tr>\n",
       "      <th>1</th>\n",
       "      <td>97</td>\n",
       "      <td>138</td>\n",
       "      <td>39640</td>\n",
       "    </tr>\n",
       "    <tr>\n",
       "      <th>2</th>\n",
       "      <td>105</td>\n",
       "      <td>35</td>\n",
       "      <td>700</td>\n",
       "    </tr>\n",
       "    <tr>\n",
       "      <th>3</th>\n",
       "      <td>109</td>\n",
       "      <td>69</td>\n",
       "      <td>21960</td>\n",
       "    </tr>\n",
       "    <tr>\n",
       "      <th>4</th>\n",
       "      <td>112</td>\n",
       "      <td>10</td>\n",
       "      <td>1000</td>\n",
       "    </tr>\n",
       "  </tbody>\n",
       "</table>\n",
       "</div>"
      ],
      "text/plain": [
       "   order_id  amount  total_price\n",
       "0        87      41       615000\n",
       "1        97     138        39640\n",
       "2       105      35          700\n",
       "3       109      69        21960\n",
       "4       112      10         1000"
      ]
     },
     "execution_count": 17,
     "metadata": {},
     "output_type": "execute_result"
    }
   ],
   "source": [
    "orders_general.head()"
   ]
  },
  {
   "cell_type": "code",
   "execution_count": 18,
   "id": "f232f7ee",
   "metadata": {
    "id": "f232f7ee",
    "outputId": "ad023cad-1655-4463-fd94-2b3cd96ae29a"
   },
   "outputs": [
    {
     "data": {
      "text/plain": [
       "(2635, 3)"
      ]
     },
     "execution_count": 18,
     "metadata": {},
     "output_type": "execute_result"
    }
   ],
   "source": [
    "orders_general.shape"
   ]
  },
  {
   "cell_type": "markdown",
   "id": "94e44028",
   "metadata": {
    "id": "94e44028"
   },
   "source": [
    "Статистики по группам"
   ]
  },
  {
   "cell_type": "code",
   "execution_count": 19,
   "id": "15a83aec",
   "metadata": {
    "id": "15a83aec"
   },
   "outputs": [],
   "source": [
    "orders_groups = orders_products[['order_id', 'product_group_name', 'amount', 'total_price']]\\\n",
    "    .groupby(by=['order_id', 'product_group_name']).sum().reset_index()"
   ]
  },
  {
   "cell_type": "code",
   "execution_count": 20,
   "id": "877200df",
   "metadata": {
    "id": "877200df"
   },
   "outputs": [],
   "source": [
    "orders_groups = pd.pivot(orders_groups, index=['order_id'], columns=['product_group_name'])"
   ]
  },
  {
   "cell_type": "code",
   "execution_count": 21,
   "id": "b18a0ceb",
   "metadata": {
    "id": "b18a0ceb"
   },
   "outputs": [],
   "source": [
    "orders_groups.columns = ['_'.join(x) for x in orders_groups.columns]"
   ]
  },
  {
   "cell_type": "code",
   "execution_count": 22,
   "id": "0d3503b0",
   "metadata": {
    "id": "0d3503b0"
   },
   "outputs": [],
   "source": [
    "orders_groups.reset_index(inplace=True)"
   ]
  },
  {
   "cell_type": "code",
   "execution_count": 23,
   "id": "45445cd4",
   "metadata": {
    "id": "45445cd4",
    "outputId": "960f49b5-9579-4a9c-99d3-873137487c62"
   },
   "outputs": [
    {
     "data": {
      "text/html": [
       "<div>\n",
       "<style scoped>\n",
       "    .dataframe tbody tr th:only-of-type {\n",
       "        vertical-align: middle;\n",
       "    }\n",
       "\n",
       "    .dataframe tbody tr th {\n",
       "        vertical-align: top;\n",
       "    }\n",
       "\n",
       "    .dataframe thead th {\n",
       "        text-align: right;\n",
       "    }\n",
       "</style>\n",
       "<table border=\"1\" class=\"dataframe\">\n",
       "  <thead>\n",
       "    <tr style=\"text-align: right;\">\n",
       "      <th></th>\n",
       "      <th>order_id</th>\n",
       "      <th>amount_Напитки</th>\n",
       "      <th>amount_Одежда</th>\n",
       "      <th>amount_Продукты</th>\n",
       "      <th>amount_Часы</th>\n",
       "      <th>total_price_Напитки</th>\n",
       "      <th>total_price_Одежда</th>\n",
       "      <th>total_price_Продукты</th>\n",
       "      <th>total_price_Часы</th>\n",
       "    </tr>\n",
       "  </thead>\n",
       "  <tbody>\n",
       "    <tr>\n",
       "      <th>0</th>\n",
       "      <td>87</td>\n",
       "      <td>NaN</td>\n",
       "      <td>41.0</td>\n",
       "      <td>NaN</td>\n",
       "      <td>NaN</td>\n",
       "      <td>NaN</td>\n",
       "      <td>615000.0</td>\n",
       "      <td>NaN</td>\n",
       "      <td>NaN</td>\n",
       "    </tr>\n",
       "    <tr>\n",
       "      <th>1</th>\n",
       "      <td>97</td>\n",
       "      <td>17.0</td>\n",
       "      <td>36.0</td>\n",
       "      <td>47.0</td>\n",
       "      <td>38.0</td>\n",
       "      <td>1700.0</td>\n",
       "      <td>18000.0</td>\n",
       "      <td>940.0</td>\n",
       "      <td>19000.0</td>\n",
       "    </tr>\n",
       "    <tr>\n",
       "      <th>2</th>\n",
       "      <td>105</td>\n",
       "      <td>35.0</td>\n",
       "      <td>NaN</td>\n",
       "      <td>NaN</td>\n",
       "      <td>NaN</td>\n",
       "      <td>700.0</td>\n",
       "      <td>NaN</td>\n",
       "      <td>NaN</td>\n",
       "      <td>NaN</td>\n",
       "    </tr>\n",
       "    <tr>\n",
       "      <th>3</th>\n",
       "      <td>109</td>\n",
       "      <td>48.0</td>\n",
       "      <td>NaN</td>\n",
       "      <td>NaN</td>\n",
       "      <td>21.0</td>\n",
       "      <td>960.0</td>\n",
       "      <td>NaN</td>\n",
       "      <td>NaN</td>\n",
       "      <td>21000.0</td>\n",
       "    </tr>\n",
       "    <tr>\n",
       "      <th>4</th>\n",
       "      <td>112</td>\n",
       "      <td>10.0</td>\n",
       "      <td>NaN</td>\n",
       "      <td>NaN</td>\n",
       "      <td>NaN</td>\n",
       "      <td>1000.0</td>\n",
       "      <td>NaN</td>\n",
       "      <td>NaN</td>\n",
       "      <td>NaN</td>\n",
       "    </tr>\n",
       "  </tbody>\n",
       "</table>\n",
       "</div>"
      ],
      "text/plain": [
       "   order_id  amount_Напитки  amount_Одежда  amount_Продукты  amount_Часы  \\\n",
       "0        87             NaN           41.0              NaN          NaN   \n",
       "1        97            17.0           36.0             47.0         38.0   \n",
       "2       105            35.0            NaN              NaN          NaN   \n",
       "3       109            48.0            NaN              NaN         21.0   \n",
       "4       112            10.0            NaN              NaN          NaN   \n",
       "\n",
       "   total_price_Напитки  total_price_Одежда  total_price_Продукты  \\\n",
       "0                  NaN            615000.0                   NaN   \n",
       "1               1700.0             18000.0                 940.0   \n",
       "2                700.0                 NaN                   NaN   \n",
       "3                960.0                 NaN                   NaN   \n",
       "4               1000.0                 NaN                   NaN   \n",
       "\n",
       "   total_price_Часы  \n",
       "0               NaN  \n",
       "1           19000.0  \n",
       "2               NaN  \n",
       "3           21000.0  \n",
       "4               NaN  "
      ]
     },
     "execution_count": 23,
     "metadata": {},
     "output_type": "execute_result"
    }
   ],
   "source": [
    "orders_groups.head()"
   ]
  },
  {
   "cell_type": "code",
   "execution_count": 24,
   "id": "98de4da1",
   "metadata": {
    "id": "98de4da1",
    "outputId": "4dc2fcf7-7f7d-4892-c971-f4dd1ac5b2e2"
   },
   "outputs": [
    {
     "data": {
      "text/plain": [
       "(2635, 9)"
      ]
     },
     "execution_count": 24,
     "metadata": {},
     "output_type": "execute_result"
    }
   ],
   "source": [
    "orders_groups.shape"
   ]
  },
  {
   "cell_type": "markdown",
   "id": "793b6a26",
   "metadata": {
    "id": "793b6a26"
   },
   "source": [
    "Ограничимся этими признаками, поскольку по природе задачи объем и дороговизна товаров кажутся одними из самых важных признаков. Добавить можно произвольное количество других - закодировать адрес, добавить возраст покупателя, количество операционок пользователя, время использования приложения на момент заказа и т.д. С точки зрения задания, чем больше креатива проявляет слушатель - тем лучше."
   ]
  },
  {
   "cell_type": "markdown",
   "id": "9f4f017e",
   "metadata": {
    "id": "9f4f017e"
   },
   "source": [
    "Формирование финальной таблицы с данными - левые джойны целевой переменной с признаками"
   ]
  },
  {
   "cell_type": "code",
   "execution_count": 25,
   "id": "5e60d297",
   "metadata": {
    "id": "5e60d297"
   },
   "outputs": [],
   "source": [
    "order_info_and_target = pd.merge(order_target, orders_general, on='order_id', how='left')"
   ]
  },
  {
   "cell_type": "code",
   "execution_count": 26,
   "id": "9508a20e",
   "metadata": {
    "id": "9508a20e"
   },
   "outputs": [],
   "source": [
    "order_info_and_target = pd.merge(order_info_and_target, orders_groups, on='order_id', how='left')"
   ]
  },
  {
   "cell_type": "code",
   "execution_count": 27,
   "id": "e4204f1d",
   "metadata": {
    "id": "e4204f1d",
    "outputId": "4c3ddf68-1ce9-457f-c92c-ed4e78b46c55"
   },
   "outputs": [
    {
     "data": {
      "text/html": [
       "<div>\n",
       "<style scoped>\n",
       "    .dataframe tbody tr th:only-of-type {\n",
       "        vertical-align: middle;\n",
       "    }\n",
       "\n",
       "    .dataframe tbody tr th {\n",
       "        vertical-align: top;\n",
       "    }\n",
       "\n",
       "    .dataframe thead th {\n",
       "        text-align: right;\n",
       "    }\n",
       "</style>\n",
       "<table border=\"1\" class=\"dataframe\">\n",
       "  <thead>\n",
       "    <tr style=\"text-align: right;\">\n",
       "      <th></th>\n",
       "      <th>order_id</th>\n",
       "      <th>delivery_time</th>\n",
       "      <th>amount</th>\n",
       "      <th>total_price</th>\n",
       "      <th>amount_Напитки</th>\n",
       "      <th>amount_Одежда</th>\n",
       "      <th>amount_Продукты</th>\n",
       "      <th>amount_Часы</th>\n",
       "      <th>total_price_Напитки</th>\n",
       "      <th>total_price_Одежда</th>\n",
       "      <th>total_price_Продукты</th>\n",
       "      <th>total_price_Часы</th>\n",
       "    </tr>\n",
       "  </thead>\n",
       "  <tbody>\n",
       "    <tr>\n",
       "      <th>0</th>\n",
       "      <td>87</td>\n",
       "      <td>2245</td>\n",
       "      <td>41.0</td>\n",
       "      <td>615000.0</td>\n",
       "      <td>NaN</td>\n",
       "      <td>41.0</td>\n",
       "      <td>NaN</td>\n",
       "      <td>NaN</td>\n",
       "      <td>NaN</td>\n",
       "      <td>615000.0</td>\n",
       "      <td>NaN</td>\n",
       "      <td>NaN</td>\n",
       "    </tr>\n",
       "    <tr>\n",
       "      <th>1</th>\n",
       "      <td>97</td>\n",
       "      <td>-5056</td>\n",
       "      <td>138.0</td>\n",
       "      <td>39640.0</td>\n",
       "      <td>17.0</td>\n",
       "      <td>36.0</td>\n",
       "      <td>47.0</td>\n",
       "      <td>38.0</td>\n",
       "      <td>1700.0</td>\n",
       "      <td>18000.0</td>\n",
       "      <td>940.0</td>\n",
       "      <td>19000.0</td>\n",
       "    </tr>\n",
       "    <tr>\n",
       "      <th>2</th>\n",
       "      <td>109</td>\n",
       "      <td>-6872</td>\n",
       "      <td>69.0</td>\n",
       "      <td>21960.0</td>\n",
       "      <td>48.0</td>\n",
       "      <td>NaN</td>\n",
       "      <td>NaN</td>\n",
       "      <td>21.0</td>\n",
       "      <td>960.0</td>\n",
       "      <td>NaN</td>\n",
       "      <td>NaN</td>\n",
       "      <td>21000.0</td>\n",
       "    </tr>\n",
       "    <tr>\n",
       "      <th>3</th>\n",
       "      <td>181</td>\n",
       "      <td>3650</td>\n",
       "      <td>80.0</td>\n",
       "      <td>13950.0</td>\n",
       "      <td>55.0</td>\n",
       "      <td>NaN</td>\n",
       "      <td>25.0</td>\n",
       "      <td>NaN</td>\n",
       "      <td>12700.0</td>\n",
       "      <td>NaN</td>\n",
       "      <td>1250.0</td>\n",
       "      <td>NaN</td>\n",
       "    </tr>\n",
       "    <tr>\n",
       "      <th>4</th>\n",
       "      <td>184</td>\n",
       "      <td>-2871</td>\n",
       "      <td>77.0</td>\n",
       "      <td>540900.0</td>\n",
       "      <td>NaN</td>\n",
       "      <td>77.0</td>\n",
       "      <td>NaN</td>\n",
       "      <td>NaN</td>\n",
       "      <td>NaN</td>\n",
       "      <td>540900.0</td>\n",
       "      <td>NaN</td>\n",
       "      <td>NaN</td>\n",
       "    </tr>\n",
       "  </tbody>\n",
       "</table>\n",
       "</div>"
      ],
      "text/plain": [
       "   order_id  delivery_time  amount  total_price  amount_Напитки  \\\n",
       "0        87           2245    41.0     615000.0             NaN   \n",
       "1        97          -5056   138.0      39640.0            17.0   \n",
       "2       109          -6872    69.0      21960.0            48.0   \n",
       "3       181           3650    80.0      13950.0            55.0   \n",
       "4       184          -2871    77.0     540900.0             NaN   \n",
       "\n",
       "   amount_Одежда  amount_Продукты  amount_Часы  total_price_Напитки  \\\n",
       "0           41.0              NaN          NaN                  NaN   \n",
       "1           36.0             47.0         38.0               1700.0   \n",
       "2            NaN              NaN         21.0                960.0   \n",
       "3            NaN             25.0          NaN              12700.0   \n",
       "4           77.0              NaN          NaN                  NaN   \n",
       "\n",
       "   total_price_Одежда  total_price_Продукты  total_price_Часы  \n",
       "0            615000.0                   NaN               NaN  \n",
       "1             18000.0                 940.0           19000.0  \n",
       "2                 NaN                   NaN           21000.0  \n",
       "3                 NaN                1250.0               NaN  \n",
       "4            540900.0                   NaN               NaN  "
      ]
     },
     "execution_count": 27,
     "metadata": {},
     "output_type": "execute_result"
    }
   ],
   "source": [
    "order_info_and_target.head()"
   ]
  },
  {
   "cell_type": "markdown",
   "id": "b3ce7b38",
   "metadata": {
    "id": "b3ce7b38"
   },
   "source": [
    "### Обработка данных и моделирование"
   ]
  },
  {
   "cell_type": "markdown",
   "id": "1a6bb7be",
   "metadata": {
    "id": "1a6bb7be"
   },
   "source": [
    "Выделим признаковое описание и целевой столбец"
   ]
  },
  {
   "cell_type": "code",
   "execution_count": 28,
   "id": "8b5a16e1",
   "metadata": {
    "id": "8b5a16e1"
   },
   "outputs": [],
   "source": [
    "X = order_info_and_target.drop(columns=['order_id', 'delivery_time'])\n",
    "y = order_info_and_target['delivery_time']"
   ]
  },
  {
   "cell_type": "markdown",
   "id": "4539c862",
   "metadata": {
    "id": "4539c862"
   },
   "source": [
    "Поскольку для оценки качества моделей предполагается использование кросс-валидации, воспользуемся классом Pipeline из библиотеки sklearn, чтобы предотвратить утечку информации.\n",
    "\n",
    "В полученном признаковом описании отсутствуют категориальные переменные - значит соответствующие кодировки не нужны. При этом есть как признаки разных масштабов, так и пропуски. Поэтому добавим нормализацию и заполнения пропусков\n",
    "\n",
    "При этом вспомним, что нормализация для древесных моделей не требуется - учтем это при использовании соответствующих пайплайнов."
   ]
  },
  {
   "cell_type": "code",
   "execution_count": 29,
   "id": "c9e0e50e",
   "metadata": {
    "id": "c9e0e50e"
   },
   "outputs": [],
   "source": [
    "sc = StandardScaler()\n",
    "si = SimpleImputer()"
   ]
  },
  {
   "cell_type": "code",
   "execution_count": 30,
   "id": "93abb0d4",
   "metadata": {
    "id": "93abb0d4"
   },
   "outputs": [],
   "source": [
    "lr = LinearRegression()\n",
    "dt = DecisionTreeRegressor()\n",
    "rf = RandomForestRegressor()"
   ]
  },
  {
   "cell_type": "code",
   "execution_count": 31,
   "id": "cb950add",
   "metadata": {
    "id": "cb950add"
   },
   "outputs": [],
   "source": [
    "lr_pipeline = Pipeline([('si', si), ('sc', sc), ('lr', lr)])\n",
    "dt_pipeline = Pipeline([('si', si), ('dt', dt)])\n",
    "rf_pipeline = Pipeline([('si', si), ('rf', rf)])"
   ]
  },
  {
   "cell_type": "code",
   "execution_count": 32,
   "id": "d9c6f571",
   "metadata": {
    "id": "d9c6f571"
   },
   "outputs": [],
   "source": [
    "kfold = KFold(n_splits=5)"
   ]
  },
  {
   "cell_type": "code",
   "execution_count": 33,
   "id": "e64b6ffd",
   "metadata": {
    "id": "e64b6ffd"
   },
   "outputs": [],
   "source": [
    "lr_pred = cross_val_predict(estimator=lr_pipeline, X=X, y=y, cv=kfold)\n",
    "dt_pred = cross_val_predict(estimator=dt_pipeline, X=X, y=y, cv=kfold)\n",
    "rf_pred = cross_val_predict(estimator=rf_pipeline, X=X, y=y, cv=kfold)"
   ]
  },
  {
   "cell_type": "markdown",
   "id": "1e660fa5",
   "metadata": {
    "id": "1e660fa5"
   },
   "source": [
    "Результат медианой и средним для сравнения"
   ]
  },
  {
   "cell_type": "code",
   "execution_count": 34,
   "id": "c45ccca3",
   "metadata": {
    "id": "c45ccca3",
    "outputId": "16ef71d7-4806-4cd0-cfac-ea2df887409e"
   },
   "outputs": [
    {
     "data": {
      "text/plain": [
       "5.177771990792434"
      ]
     },
     "execution_count": 34,
     "metadata": {},
     "output_type": "execute_result"
    }
   ],
   "source": [
    "mean_absolute_percentage_error(y, [np.median(y)]*y.shape[0])"
   ]
  },
  {
   "cell_type": "code",
   "execution_count": 35,
   "id": "ef35d9f4",
   "metadata": {
    "id": "ef35d9f4",
    "outputId": "eec9b01b-648d-4f1a-f9d6-e1f273847ed1"
   },
   "outputs": [
    {
     "data": {
      "text/plain": [
       "6.527043585503089"
      ]
     },
     "execution_count": 35,
     "metadata": {},
     "output_type": "execute_result"
    }
   ],
   "source": [
    "mean_absolute_percentage_error(y, [np.mean(y)]*y.shape[0])"
   ]
  },
  {
   "cell_type": "markdown",
   "id": "d1d40002",
   "metadata": {
    "id": "d1d40002"
   },
   "source": [
    "Результат линейной модели"
   ]
  },
  {
   "cell_type": "code",
   "execution_count": 36,
   "id": "d1c30bd1",
   "metadata": {
    "id": "d1c30bd1",
    "outputId": "5cc9cb12-7eba-4dde-b595-256b0d78364d"
   },
   "outputs": [
    {
     "data": {
      "text/plain": [
       "7.138036442384436"
      ]
     },
     "execution_count": 36,
     "metadata": {},
     "output_type": "execute_result"
    }
   ],
   "source": [
    "mean_absolute_percentage_error(y, lr_pred)"
   ]
  },
  {
   "cell_type": "code",
   "execution_count": 37,
   "id": "a2033f40",
   "metadata": {
    "id": "a2033f40",
    "outputId": "3fe347b0-7131-4fd7-9f93-052c991c70c8"
   },
   "outputs": [
    {
     "data": {
      "text/plain": [
       "-0.007571754305745415"
      ]
     },
     "execution_count": 37,
     "metadata": {},
     "output_type": "execute_result"
    }
   ],
   "source": [
    "r2_score(y, lr_pred)"
   ]
  },
  {
   "cell_type": "markdown",
   "id": "d2c4cf90",
   "metadata": {
    "id": "d2c4cf90"
   },
   "source": [
    "Результат дерева решений"
   ]
  },
  {
   "cell_type": "code",
   "execution_count": 38,
   "id": "e37e9abf",
   "metadata": {
    "id": "e37e9abf",
    "outputId": "bbe29103-e447-4d6a-97c6-6f86e2502e34"
   },
   "outputs": [
    {
     "data": {
      "text/plain": [
       "8.716108302076021"
      ]
     },
     "execution_count": 38,
     "metadata": {},
     "output_type": "execute_result"
    }
   ],
   "source": [
    "mean_absolute_percentage_error(y, dt_pred)"
   ]
  },
  {
   "cell_type": "code",
   "execution_count": 39,
   "id": "415a59cb",
   "metadata": {
    "id": "415a59cb",
    "outputId": "354e7c7d-67f0-4db4-bf0a-fcc7af3deb72"
   },
   "outputs": [
    {
     "data": {
      "text/plain": [
       "-0.8394798294913453"
      ]
     },
     "execution_count": 39,
     "metadata": {},
     "output_type": "execute_result"
    }
   ],
   "source": [
    "r2_score(y, dt_pred)"
   ]
  },
  {
   "cell_type": "markdown",
   "id": "f823a69b",
   "metadata": {
    "id": "f823a69b"
   },
   "source": [
    "Результат случайного леса"
   ]
  },
  {
   "cell_type": "code",
   "execution_count": 40,
   "id": "13e50889",
   "metadata": {
    "id": "13e50889",
    "outputId": "e61eac0a-3c6c-4b42-d797-548f2745fc33"
   },
   "outputs": [
    {
     "data": {
      "text/plain": [
       "6.940807807702176"
      ]
     },
     "execution_count": 40,
     "metadata": {},
     "output_type": "execute_result"
    }
   ],
   "source": [
    "mean_absolute_percentage_error(y, rf_pred)"
   ]
  },
  {
   "cell_type": "code",
   "execution_count": 41,
   "id": "284bbfb5",
   "metadata": {
    "id": "284bbfb5",
    "outputId": "ae3829d1-8f9c-4af1-a528-96ce68abddf0"
   },
   "outputs": [
    {
     "data": {
      "text/plain": [
       "-0.14085905345638405"
      ]
     },
     "execution_count": 41,
     "metadata": {},
     "output_type": "execute_result"
    }
   ],
   "source": [
    "r2_score(y, rf_pred)"
   ]
  },
  {
   "cell_type": "markdown",
   "id": "42001bb7",
   "metadata": {
    "id": "42001bb7"
   },
   "source": [
    "Как результат получены значения метрик, видно, что модели работают хуже предсказания средним - выбранные признаки могли оказаться недостаточно информативными, либо целевая переменная плохо прогнозируема в целом"
   ]
  }
 ],
 "metadata": {
  "colab": {
   "provenance": []
  },
  "kernelspec": {
   "display_name": "Python 3 (ipykernel)",
   "language": "python",
   "name": "python3"
  },
  "language_info": {
   "codemirror_mode": {
    "name": "ipython",
    "version": 3
   },
   "file_extension": ".py",
   "mimetype": "text/x-python",
   "name": "python",
   "nbconvert_exporter": "python",
   "pygments_lexer": "ipython3",
   "version": "3.10.9"
  }
 },
 "nbformat": 4,
 "nbformat_minor": 5
}
