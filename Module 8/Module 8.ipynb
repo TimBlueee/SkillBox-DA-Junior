{
 "cells": [
  {
   "cell_type": "code",
   "execution_count": 1,
   "metadata": {},
   "outputs": [],
   "source": [
    "import pandas as pd \n",
    "import numpy as np\n",
    "import matplotlib.pyplot as plt"
   ]
  },
  {
   "cell_type": "markdown",
   "metadata": {},
   "source": [
    "# Задание 1\n"
   ]
  },
  {
   "cell_type": "code",
   "execution_count": 2,
   "metadata": {},
   "outputs": [
    {
     "data": {
      "text/html": [
       "<div>\n",
       "<style scoped>\n",
       "    .dataframe tbody tr th:only-of-type {\n",
       "        vertical-align: middle;\n",
       "    }\n",
       "\n",
       "    .dataframe tbody tr th {\n",
       "        vertical-align: top;\n",
       "    }\n",
       "\n",
       "    .dataframe thead th {\n",
       "        text-align: right;\n",
       "    }\n",
       "</style>\n",
       "<table border=\"1\" class=\"dataframe\">\n",
       "  <thead>\n",
       "    <tr style=\"text-align: right;\">\n",
       "      <th></th>\n",
       "      <th>user_id</th>\n",
       "      <th>funnel_stage</th>\n",
       "      <th>timestamp</th>\n",
       "      <th>profit</th>\n",
       "      <th>os</th>\n",
       "      <th>ad_channel</th>\n",
       "      <th>price</th>\n",
       "    </tr>\n",
       "  </thead>\n",
       "  <tbody>\n",
       "    <tr>\n",
       "      <th>0</th>\n",
       "      <td>512217</td>\n",
       "      <td>interest</td>\n",
       "      <td>150000</td>\n",
       "      <td>NaN</td>\n",
       "      <td>iOS</td>\n",
       "      <td>video</td>\n",
       "      <td>0.75</td>\n",
       "    </tr>\n",
       "    <tr>\n",
       "      <th>1</th>\n",
       "      <td>587720</td>\n",
       "      <td>interest</td>\n",
       "      <td>150000</td>\n",
       "      <td>NaN</td>\n",
       "      <td>Android</td>\n",
       "      <td>banner</td>\n",
       "      <td>0.50</td>\n",
       "    </tr>\n",
       "    <tr>\n",
       "      <th>2</th>\n",
       "      <td>833649</td>\n",
       "      <td>interest</td>\n",
       "      <td>150000</td>\n",
       "      <td>NaN</td>\n",
       "      <td>Android</td>\n",
       "      <td>video</td>\n",
       "      <td>0.75</td>\n",
       "    </tr>\n",
       "    <tr>\n",
       "      <th>3</th>\n",
       "      <td>47061</td>\n",
       "      <td>interest</td>\n",
       "      <td>150000</td>\n",
       "      <td>NaN</td>\n",
       "      <td>Android</td>\n",
       "      <td>banner</td>\n",
       "      <td>0.50</td>\n",
       "    </tr>\n",
       "    <tr>\n",
       "      <th>4</th>\n",
       "      <td>1035593</td>\n",
       "      <td>interest</td>\n",
       "      <td>150000</td>\n",
       "      <td>NaN</td>\n",
       "      <td>Android</td>\n",
       "      <td>partner_network</td>\n",
       "      <td>1.00</td>\n",
       "    </tr>\n",
       "    <tr>\n",
       "      <th>...</th>\n",
       "      <td>...</td>\n",
       "      <td>...</td>\n",
       "      <td>...</td>\n",
       "      <td>...</td>\n",
       "      <td>...</td>\n",
       "      <td>...</td>\n",
       "      <td>...</td>\n",
       "    </tr>\n",
       "    <tr>\n",
       "      <th>2737569</th>\n",
       "      <td>789473</td>\n",
       "      <td>purchase</td>\n",
       "      <td>201912</td>\n",
       "      <td>2136.0</td>\n",
       "      <td>Android</td>\n",
       "      <td>partner_network</td>\n",
       "      <td>1.00</td>\n",
       "    </tr>\n",
       "    <tr>\n",
       "      <th>2737570</th>\n",
       "      <td>1036500</td>\n",
       "      <td>purchase</td>\n",
       "      <td>202012</td>\n",
       "      <td>50.0</td>\n",
       "      <td>Android</td>\n",
       "      <td>traffic</td>\n",
       "      <td>0.00</td>\n",
       "    </tr>\n",
       "    <tr>\n",
       "      <th>2737571</th>\n",
       "      <td>539693</td>\n",
       "      <td>purchase</td>\n",
       "      <td>202053</td>\n",
       "      <td>50.0</td>\n",
       "      <td>iOS</td>\n",
       "      <td>traffic</td>\n",
       "      <td>0.00</td>\n",
       "    </tr>\n",
       "    <tr>\n",
       "      <th>2737572</th>\n",
       "      <td>583326</td>\n",
       "      <td>purchase</td>\n",
       "      <td>202140</td>\n",
       "      <td>1099.0</td>\n",
       "      <td>Android</td>\n",
       "      <td>traffic</td>\n",
       "      <td>0.00</td>\n",
       "    </tr>\n",
       "    <tr>\n",
       "      <th>2737573</th>\n",
       "      <td>588392</td>\n",
       "      <td>purchase</td>\n",
       "      <td>202152</td>\n",
       "      <td>2136.0</td>\n",
       "      <td>iOS</td>\n",
       "      <td>traffic</td>\n",
       "      <td>0.00</td>\n",
       "    </tr>\n",
       "  </tbody>\n",
       "</table>\n",
       "<p>2737574 rows × 7 columns</p>\n",
       "</div>"
      ],
      "text/plain": [
       "         user_id funnel_stage  timestamp  profit       os       ad_channel  \\\n",
       "0         512217     interest     150000     NaN      iOS            video   \n",
       "1         587720     interest     150000     NaN  Android           banner   \n",
       "2         833649     interest     150000     NaN  Android            video   \n",
       "3          47061     interest     150000     NaN  Android           banner   \n",
       "4        1035593     interest     150000     NaN  Android  partner_network   \n",
       "...          ...          ...        ...     ...      ...              ...   \n",
       "2737569   789473     purchase     201912  2136.0  Android  partner_network   \n",
       "2737570  1036500     purchase     202012    50.0  Android          traffic   \n",
       "2737571   539693     purchase     202053    50.0      iOS          traffic   \n",
       "2737572   583326     purchase     202140  1099.0  Android          traffic   \n",
       "2737573   588392     purchase     202152  2136.0      iOS          traffic   \n",
       "\n",
       "         price  \n",
       "0         0.75  \n",
       "1         0.50  \n",
       "2         0.75  \n",
       "3         0.50  \n",
       "4         1.00  \n",
       "...        ...  \n",
       "2737569   1.00  \n",
       "2737570   0.00  \n",
       "2737571   0.00  \n",
       "2737572   0.00  \n",
       "2737573   0.00  \n",
       "\n",
       "[2737574 rows x 7 columns]"
      ]
     },
     "execution_count": 2,
     "metadata": {},
     "output_type": "execute_result"
    }
   ],
   "source": [
    "df = pd.read_csv('data.csv')\n",
    "df = df.replace(r'^\\s*$', np.nan, regex=True)\n",
    "df = df.drop(columns=['Unnamed: 0'])\n",
    "df"
   ]
  },
  {
   "cell_type": "markdown",
   "metadata": {},
   "source": [
    "# Задание 2"
   ]
  },
  {
   "cell_type": "code",
   "execution_count": 3,
   "metadata": {},
   "outputs": [
    {
     "name": "stdout",
     "output_type": "stream",
     "text": [
      "['video' 'banner' 'partner_network' 'rich' 'traffic' 'native']\n"
     ]
    }
   ],
   "source": [
    "df = df[df['ad_channel'] != 'other']\n",
    "print(df['ad_channel'].unique())"
   ]
  },
  {
   "cell_type": "markdown",
   "metadata": {},
   "source": [
    "# Задание 3\n"
   ]
  },
  {
   "cell_type": "code",
   "execution_count": 4,
   "metadata": {},
   "outputs": [
    {
     "name": "stdout",
     "output_type": "stream",
     "text": [
      "ad_channel       funnel_stage \n",
      "banner           consideration    47454\n",
      "                 intent            7630\n",
      "                 interest         92002\n",
      "                 purchase           690\n",
      "native           consideration    12585\n",
      "                 intent             411\n",
      "                 interest         19382\n",
      "                 purchase            36\n",
      "partner_network  consideration    24737\n",
      "                 intent            4422\n",
      "                 interest         66225\n",
      "                 purchase           453\n",
      "rich             consideration     4658\n",
      "                 intent            1238\n",
      "                 interest          8921\n",
      "                 purchase            21\n",
      "traffic          consideration    53618\n",
      "                 intent            9164\n",
      "                 interest         78718\n",
      "                 purchase           540\n",
      "video            consideration    60876\n",
      "                 intent              58\n",
      "                 interest         97964\n",
      "                 purchase             5\n",
      "Name: user_id, dtype: int64\n"
     ]
    }
   ],
   "source": [
    "grouped = df.groupby(['ad_channel', 'funnel_stage'])['user_id'].nunique()\n",
    "print(grouped)"
   ]
  },
  {
   "cell_type": "markdown",
   "metadata": {},
   "source": [
    "# Задание 4\n"
   ]
  },
  {
   "cell_type": "code",
   "execution_count": 5,
   "metadata": {},
   "outputs": [
    {
     "data": {
      "text/html": [
       "<div>\n",
       "<style scoped>\n",
       "    .dataframe tbody tr th:only-of-type {\n",
       "        vertical-align: middle;\n",
       "    }\n",
       "\n",
       "    .dataframe tbody tr th {\n",
       "        vertical-align: top;\n",
       "    }\n",
       "\n",
       "    .dataframe thead tr th {\n",
       "        text-align: left;\n",
       "    }\n",
       "\n",
       "    .dataframe thead tr:last-of-type th {\n",
       "        text-align: right;\n",
       "    }\n",
       "</style>\n",
       "<table border=\"1\" class=\"dataframe\">\n",
       "  <thead>\n",
       "    <tr>\n",
       "      <th></th>\n",
       "      <th></th>\n",
       "      <th>timestamp</th>\n",
       "    </tr>\n",
       "    <tr>\n",
       "      <th></th>\n",
       "      <th></th>\n",
       "      <th>count</th>\n",
       "    </tr>\n",
       "    <tr>\n",
       "      <th>user_id</th>\n",
       "      <th>timestamp</th>\n",
       "      <th></th>\n",
       "    </tr>\n",
       "  </thead>\n",
       "  <tbody>\n",
       "    <tr>\n",
       "      <th>4</th>\n",
       "      <th>183254</th>\n",
       "      <td>555</td>\n",
       "    </tr>\n",
       "    <tr>\n",
       "      <th rowspan=\"2\" valign=\"top\">5</th>\n",
       "      <th>153069</th>\n",
       "      <td>1</td>\n",
       "    </tr>\n",
       "    <tr>\n",
       "      <th>153692</th>\n",
       "      <td>1</td>\n",
       "    </tr>\n",
       "    <tr>\n",
       "      <th>7</th>\n",
       "      <th>155779</th>\n",
       "      <td>1</td>\n",
       "    </tr>\n",
       "    <tr>\n",
       "      <th>8</th>\n",
       "      <th>175997</th>\n",
       "      <td>1</td>\n",
       "    </tr>\n",
       "    <tr>\n",
       "      <th>...</th>\n",
       "      <th>...</th>\n",
       "      <td>...</td>\n",
       "    </tr>\n",
       "    <tr>\n",
       "      <th rowspan=\"2\" valign=\"top\">1064741</th>\n",
       "      <th>193546</th>\n",
       "      <td>1</td>\n",
       "    </tr>\n",
       "    <tr>\n",
       "      <th>194117</th>\n",
       "      <td>1</td>\n",
       "    </tr>\n",
       "    <tr>\n",
       "      <th>1064742</th>\n",
       "      <th>176049</th>\n",
       "      <td>1</td>\n",
       "    </tr>\n",
       "    <tr>\n",
       "      <th rowspan=\"2\" valign=\"top\">1064747</th>\n",
       "      <th>182206</th>\n",
       "      <td>1</td>\n",
       "    </tr>\n",
       "    <tr>\n",
       "      <th>182961</th>\n",
       "      <td>1</td>\n",
       "    </tr>\n",
       "  </tbody>\n",
       "</table>\n",
       "<p>597121 rows × 1 columns</p>\n",
       "</div>"
      ],
      "text/plain": [
       "                  timestamp\n",
       "                      count\n",
       "user_id timestamp          \n",
       "4       183254          555\n",
       "5       153069            1\n",
       "        153692            1\n",
       "7       155779            1\n",
       "8       175997            1\n",
       "...                     ...\n",
       "1064741 193546            1\n",
       "        194117            1\n",
       "1064742 176049            1\n",
       "1064747 182206            1\n",
       "        182961            1\n",
       "\n",
       "[597121 rows x 1 columns]"
      ]
     },
     "execution_count": 5,
     "metadata": {},
     "output_type": "execute_result"
    }
   ],
   "source": [
    "df = pd.read_csv('data.csv')\n",
    "df_count = df.groupby(['user_id', 'timestamp']).agg({'timestamp': ['count']})\n",
    "df_count"
   ]
  },
  {
   "cell_type": "code",
   "execution_count": 6,
   "metadata": {},
   "outputs": [
    {
     "data": {
      "text/html": [
       "<div>\n",
       "<style scoped>\n",
       "    .dataframe tbody tr th:only-of-type {\n",
       "        vertical-align: middle;\n",
       "    }\n",
       "\n",
       "    .dataframe tbody tr th {\n",
       "        vertical-align: top;\n",
       "    }\n",
       "\n",
       "    .dataframe thead th {\n",
       "        text-align: right;\n",
       "    }\n",
       "</style>\n",
       "<table border=\"1\" class=\"dataframe\">\n",
       "  <thead>\n",
       "    <tr style=\"text-align: right;\">\n",
       "      <th></th>\n",
       "      <th></th>\n",
       "      <th>count</th>\n",
       "    </tr>\n",
       "    <tr>\n",
       "      <th>user_id</th>\n",
       "      <th>timestamp</th>\n",
       "      <th></th>\n",
       "    </tr>\n",
       "  </thead>\n",
       "  <tbody>\n",
       "    <tr>\n",
       "      <th>4</th>\n",
       "      <th>183254</th>\n",
       "      <td>555</td>\n",
       "    </tr>\n",
       "    <tr>\n",
       "      <th rowspan=\"2\" valign=\"top\">73</th>\n",
       "      <th>163846</th>\n",
       "      <td>550</td>\n",
       "    </tr>\n",
       "    <tr>\n",
       "      <th>165066</th>\n",
       "      <td>582</td>\n",
       "    </tr>\n",
       "    <tr>\n",
       "      <th>549</th>\n",
       "      <th>195410</th>\n",
       "      <td>541</td>\n",
       "    </tr>\n",
       "    <tr>\n",
       "      <th>645</th>\n",
       "      <th>180672</th>\n",
       "      <td>554</td>\n",
       "    </tr>\n",
       "    <tr>\n",
       "      <th>...</th>\n",
       "      <th>...</th>\n",
       "      <td>...</td>\n",
       "    </tr>\n",
       "    <tr>\n",
       "      <th>1063356</th>\n",
       "      <th>199811</th>\n",
       "      <td>535</td>\n",
       "    </tr>\n",
       "    <tr>\n",
       "      <th>1063617</th>\n",
       "      <th>188955</th>\n",
       "      <td>575</td>\n",
       "    </tr>\n",
       "    <tr>\n",
       "      <th>1063945</th>\n",
       "      <th>170866</th>\n",
       "      <td>591</td>\n",
       "    </tr>\n",
       "    <tr>\n",
       "      <th>1063999</th>\n",
       "      <th>171319</th>\n",
       "      <td>540</td>\n",
       "    </tr>\n",
       "    <tr>\n",
       "      <th>1064557</th>\n",
       "      <th>169187</th>\n",
       "      <td>511</td>\n",
       "    </tr>\n",
       "  </tbody>\n",
       "</table>\n",
       "<p>3765 rows × 1 columns</p>\n",
       "</div>"
      ],
      "text/plain": [
       "                   count\n",
       "user_id timestamp       \n",
       "4       183254       555\n",
       "73      163846       550\n",
       "        165066       582\n",
       "549     195410       541\n",
       "645     180672       554\n",
       "...                  ...\n",
       "1063356 199811       535\n",
       "1063617 188955       575\n",
       "1063945 170866       591\n",
       "1063999 171319       540\n",
       "1064557 169187       511\n",
       "\n",
       "[3765 rows x 1 columns]"
      ]
     },
     "execution_count": 6,
     "metadata": {},
     "output_type": "execute_result"
    }
   ],
   "source": [
    "df_users = df_count.timestamp[df_count.timestamp['count'] > 2]\n",
    "df_users"
   ]
  },
  {
   "cell_type": "code",
   "execution_count": 7,
   "metadata": {
    "scrolled": false
   },
   "outputs": [
    {
     "data": {
      "text/html": [
       "<div>\n",
       "<style scoped>\n",
       "    .dataframe tbody tr th:only-of-type {\n",
       "        vertical-align: middle;\n",
       "    }\n",
       "\n",
       "    .dataframe tbody tr th {\n",
       "        vertical-align: top;\n",
       "    }\n",
       "\n",
       "    .dataframe thead th {\n",
       "        text-align: right;\n",
       "    }\n",
       "</style>\n",
       "<table border=\"1\" class=\"dataframe\">\n",
       "  <thead>\n",
       "    <tr style=\"text-align: right;\">\n",
       "      <th></th>\n",
       "      <th></th>\n",
       "      <th>count</th>\n",
       "    </tr>\n",
       "    <tr>\n",
       "      <th>user_id</th>\n",
       "      <th>timestamp</th>\n",
       "      <th></th>\n",
       "    </tr>\n",
       "  </thead>\n",
       "  <tbody>\n",
       "    <tr>\n",
       "      <th rowspan=\"2\" valign=\"top\">5</th>\n",
       "      <th>153069</th>\n",
       "      <td>1</td>\n",
       "    </tr>\n",
       "    <tr>\n",
       "      <th>153692</th>\n",
       "      <td>1</td>\n",
       "    </tr>\n",
       "    <tr>\n",
       "      <th>7</th>\n",
       "      <th>155779</th>\n",
       "      <td>1</td>\n",
       "    </tr>\n",
       "    <tr>\n",
       "      <th>8</th>\n",
       "      <th>175997</th>\n",
       "      <td>1</td>\n",
       "    </tr>\n",
       "    <tr>\n",
       "      <th>9</th>\n",
       "      <th>156968</th>\n",
       "      <td>1</td>\n",
       "    </tr>\n",
       "    <tr>\n",
       "      <th>...</th>\n",
       "      <th>...</th>\n",
       "      <td>...</td>\n",
       "    </tr>\n",
       "    <tr>\n",
       "      <th rowspan=\"2\" valign=\"top\">1064741</th>\n",
       "      <th>193546</th>\n",
       "      <td>1</td>\n",
       "    </tr>\n",
       "    <tr>\n",
       "      <th>194117</th>\n",
       "      <td>1</td>\n",
       "    </tr>\n",
       "    <tr>\n",
       "      <th>1064742</th>\n",
       "      <th>176049</th>\n",
       "      <td>1</td>\n",
       "    </tr>\n",
       "    <tr>\n",
       "      <th rowspan=\"2\" valign=\"top\">1064747</th>\n",
       "      <th>182206</th>\n",
       "      <td>1</td>\n",
       "    </tr>\n",
       "    <tr>\n",
       "      <th>182961</th>\n",
       "      <td>1</td>\n",
       "    </tr>\n",
       "  </tbody>\n",
       "</table>\n",
       "<p>593355 rows × 1 columns</p>\n",
       "</div>"
      ],
      "text/plain": [
       "                   count\n",
       "user_id timestamp       \n",
       "5       153069         1\n",
       "        153692         1\n",
       "7       155779         1\n",
       "8       175997         1\n",
       "9       156968         1\n",
       "...                  ...\n",
       "1064741 193546         1\n",
       "        194117         1\n",
       "1064742 176049         1\n",
       "1064747 182206         1\n",
       "        182961         1\n",
       "\n",
       "[593355 rows x 1 columns]"
      ]
     },
     "execution_count": 7,
     "metadata": {},
     "output_type": "execute_result"
    }
   ],
   "source": [
    "df_frodo = df_count.timestamp[df_count.timestamp['count'] < 2]\n",
    "df_frodo"
   ]
  },
  {
   "cell_type": "code",
   "execution_count": 8,
   "metadata": {},
   "outputs": [
    {
     "data": {
      "text/plain": [
       "Index(['count'], dtype='object')"
      ]
     },
     "execution_count": 8,
     "metadata": {},
     "output_type": "execute_result"
    }
   ],
   "source": [
    "df_users.columns"
   ]
  },
  {
   "cell_type": "markdown",
   "metadata": {},
   "source": [
    "# Задание 5"
   ]
  },
  {
   "cell_type": "code",
   "execution_count": 9,
   "metadata": {},
   "outputs": [
    {
     "data": {
      "image/png": "[encoded data removed]",
      "text/plain": [
       "<Figure size 640x480 with 1 Axes>"
      ]
     },
     "metadata": {},
     "output_type": "display_data"
    }
   ],
   "source": [
    "df5 = df_users[['count']]\n",
    "actions = df_users['count'].tolist()\n",
    "num_bins = 10\n",
    "bin_width = max(actions) // num_bins\n",
    "plt.hist(actions, bins=np.arange(0, max(actions) + bin_width, bin_width), color='blue')\n",
    "plt.xlabel('Number of Actions')\n",
    "plt.ylabel('Frequency')\n",
    "plt.title('User Action Distribution')\n",
    "plt.show()"
   ]
  },
  {
   "cell_type": "markdown",
   "metadata": {},
   "source": [
    " # Задание 6"
   ]
  },
  {
   "cell_type": "code",
   "execution_count": 10,
   "metadata": {},
   "outputs": [],
   "source": [
    "df_frodo.reset_index(drop=True, inplace=True)"
   ]
  },
  {
   "cell_type": "code",
   "execution_count": 13,
   "metadata": {},
   "outputs": [
    {
     "name": "stdout",
     "output_type": "stream",
     "text": [
      "Процент фродовых значений: 21.67448258932909 %\n"
     ]
    }
   ],
   "source": [
    "frodo_percentage = (df_frodo.shape[0] * 100 )/df.shape[0]\n",
    "print(\"Процент фродовых значений:\", frodo_percentage, \"%\")"
   ]
  },
  {
   "cell_type": "code",
   "execution_count": 14,
   "metadata": {},
   "outputs": [],
   "source": [
    "df_frodo.to_csv('frodo_users.csv', index=False)"
   ]
  }
 ],
 "metadata": {
  "kernelspec": {
   "display_name": "Python 3 (ipykernel)",
   "language": "python",
   "name": "python3"
  },
  "language_info": {
   "codemirror_mode": {
    "name": "ipython",
    "version": 3
   },
   "file_extension": ".py",
   "mimetype": "text/x-python",
   "name": "python",
   "nbconvert_exporter": "python",
   "pygments_lexer": "ipython3",
   "version": "3.10.9"
  }
 },
 "nbformat": 4,
 "nbformat_minor": 2
}
