{
 "cells": [
  {
   "cell_type": "code",
   "execution_count": 26,
   "id": "d96410af",
   "metadata": {},
   "outputs": [],
   "source": [
    "import pandas as pd\n",
    "import numpy as np\n",
    "from statsmodels.stats.proportion import proportions_ztest"
   ]
  },
  {
   "cell_type": "markdown",
   "id": "9d2dc47d",
   "metadata": {},
   "source": [
    "# Задание 1"
   ]
  },
  {
   "cell_type": "code",
   "execution_count": 20,
   "id": "ec50d4e5",
   "metadata": {},
   "outputs": [],
   "source": [
    "org_traf = pd.read_csv('data.csv')\n",
    "organic_traffic = org_traf[org_traf['ad_channel'].isin(['traffic', 'search'])]\n",
    "\n",
    "adv_traf = pd.read_csv('data.csv')\n",
    "advertising_traffic = adv_traf[adv_traf['ad_channel'].isin(['video', 'banner', 'partner_network', 'other', 'rich'])]"
   ]
  },
  {
   "cell_type": "code",
   "execution_count": 29,
   "id": "352be50c",
   "metadata": {
    "scrolled": true
   },
   "outputs": [
    {
     "data": {
      "text/plain": [
       "(607358, 8)"
      ]
     },
     "execution_count": 29,
     "metadata": {},
     "output_type": "execute_result"
    }
   ],
   "source": [
    "organic_traffic.shape"
   ]
  },
  {
   "cell_type": "code",
   "execution_count": 28,
   "id": "ad0f9a10",
   "metadata": {
    "scrolled": false
   },
   "outputs": [
    {
     "data": {
      "text/plain": [
       "(1999615, 8)"
      ]
     },
     "execution_count": 28,
     "metadata": {},
     "output_type": "execute_result"
    }
   ],
   "source": [
    "advertising_traffic.shape"
   ]
  },
  {
   "cell_type": "markdown",
   "id": "c3a6b85f",
   "metadata": {},
   "source": [
    "# Задание 2"
   ]
  },
  {
   "cell_type": "code",
   "execution_count": 34,
   "id": "f3485b91",
   "metadata": {},
   "outputs": [
    {
     "name": "stdout",
     "output_type": "stream",
     "text": [
      "Этап: interest, Z-statistic: -135.9127492980972, p-value: 0.0\n",
      "Этап: intent, Z-statistic: 143.6621286397591, p-value: 0.0\n",
      "Этап: consideration, Z-statistic: 48.191897467509065, p-value: 0.0\n",
      "Этап: purchase, Z-statistic: 7.437693636918863, p-value: 1.0245833505118625e-13\n"
     ]
    }
   ],
   "source": [
    "organic_counts = organic_traffic['funnel_stage'].value_counts()\n",
    "advertising_counts = advertising_traffic['funnel_stage'].value_counts()\n",
    "\n",
    "for stage in organic_counts.index:\n",
    "    organic_users = organic_counts[stage]\n",
    "    advertising_users = advertising_counts[stage]\n",
    "    organic_total = len(organic_traffic)\n",
    "    advertising_total = len(advertising_traffic)\n",
    "    count = np.array([organic_users, advertising_users])\n",
    "    nobs = np.array([organic_total, advertising_total])\n",
    "    z_stat, p_val = proportions_ztest(count, nobs, alternative='two-sided')\n",
    "    \n",
    "    print(f\"Этап: {stage}, Z-statistic: {z_stat}, p-value: {p_val}\")"
   ]
  },
  {
   "cell_type": "markdown",
   "id": "92a550d2",
   "metadata": {},
   "source": [
    "# Задание 3"
   ]
  },
  {
   "cell_type": "code",
   "execution_count": 8,
   "id": "c6cbf068",
   "metadata": {},
   "outputs": [],
   "source": [
    "df = pd.read_csv('data.csv')"
   ]
  },
  {
   "cell_type": "code",
   "execution_count": 14,
   "id": "01b30e64",
   "metadata": {},
   "outputs": [
    {
     "name": "stdout",
     "output_type": "stream",
     "text": [
      "funnel_stage     consideration  intent  interest  purchase   total\n",
      "ad_channel                                                        \n",
      "banner                   47454   53238    629068       690  730450\n",
      "native                   12585    3065    114915        36  130601\n",
      "other                     1822     794     18671        44   21331\n",
      "partner_network          24737   25125    411556       453  461871\n",
      "rich                      4658    9880     59065        21   73624\n",
      "traffic                  53618   56408    496792       540  607358\n",
      "video                    60876      58    651400         5  712339\n"
     ]
    }
   ],
   "source": [
    "funnel_counts = df.groupby(['ad_channel', 'funnel_stage']).size().unstack(fill_value=0)\n",
    "funnel_counts['total'] = funnel_counts.sum(axis=1)\n",
    "print(funnel_counts)"
   ]
  },
  {
   "cell_type": "code",
   "execution_count": 15,
   "id": "4d150355",
   "metadata": {},
   "outputs": [
    {
     "name": "stdout",
     "output_type": "stream",
     "text": [
      "funnel_stage     consideration  intent  interest  purchase   total\n",
      "ad_channel                                                        \n",
      "banner                   47454   53238    629068       690  730450\n",
      "video                    60876      58    651400         5  712339\n",
      "traffic                  53618   56408    496792       540  607358\n",
      "partner_network          24737   25125    411556       453  461871\n",
      "native                   12585    3065    114915        36  130601\n",
      "rich                      4658    9880     59065        21   73624\n",
      "other                     1822     794     18671        44   21331\n"
     ]
    }
   ],
   "source": [
    "funnel_counts_sorted = funnel_counts.sort_values(by='total', ascending=False)\n",
    "print(funnel_counts_sorted)"
   ]
  },
  {
   "cell_type": "markdown",
   "id": "0be54fcf",
   "metadata": {},
   "source": [
    "# Задание 4"
   ]
  },
  {
   "cell_type": "markdown",
   "id": "7861e60e",
   "metadata": {},
   "source": [
    "Я считаю, что можно исключить канал other, поскольку он является самым худшим. Так же можно перераспределить показы увеличив такие каналы как native, rich, partner_network. Это надо сделать для того, чтобы они не отствали от каналов-лидеров и могли привлечь больше пользователей."
   ]
  }
 ],
 "metadata": {
  "kernelspec": {
   "display_name": "Python 3 (ipykernel)",
   "language": "python",
   "name": "python3"
  },
  "language_info": {
   "codemirror_mode": {
    "name": "ipython",
    "version": 3
   },
   "file_extension": ".py",
   "mimetype": "text/x-python",
   "name": "python",
   "nbconvert_exporter": "python",
   "pygments_lexer": "ipython3",
   "version": "3.10.9"
  }
 },
 "nbformat": 4,
 "nbformat_minor": 5
}
